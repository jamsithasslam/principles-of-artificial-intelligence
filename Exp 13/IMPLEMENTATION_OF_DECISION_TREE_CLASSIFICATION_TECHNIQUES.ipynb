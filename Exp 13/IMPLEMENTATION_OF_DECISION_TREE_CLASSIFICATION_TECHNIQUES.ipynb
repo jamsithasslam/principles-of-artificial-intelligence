{
  "nbformat": 4,
  "nbformat_minor": 0,
  "metadata": {
    "colab": {
      "provenance": []
    },
    "kernelspec": {
      "name": "python3",
      "display_name": "Python 3"
    },
    "language_info": {
      "name": "python"
    }
  },
  "cells": [
    {
      "cell_type": "code",
      "execution_count": 1,
      "metadata": {
        "id": "Qkj6vSwM-ddl"
      },
      "outputs": [],
      "source": [
        "from sklearn import tree"
      ]
    },
    {
      "cell_type": "code",
      "source": [
        "clf = tree.DecisionTreeClassifier()\n"
      ],
      "metadata": {
        "id": "AC9LfbqH-8oy"
      },
      "execution_count": 4,
      "outputs": []
    },
    {
      "cell_type": "code",
      "source": [
        "X = [[181, 80, 91], [182, 90, 92], [183, 100, 92], [184, 200, 93], [185, 300, 94],\n",
        "     [186, 400, 95], [187, 500, 96], [189, 600, 97], [190, 700, 98], [191, 800, 99],\n",
        "     [192, 900, 100], [193, 1000, 101]]\n",
        "Y = ['male', 'male', 'female', 'male', 'female', 'male', 'female', 'male', 'female', 'male', 'female', 'male']\n"
      ],
      "metadata": {
        "id": "iGJm-ZQ_-3FB"
      },
      "execution_count": 5,
      "outputs": []
    },
    {
      "cell_type": "code",
      "source": [
        "clf = clf.fit(X, Y)"
      ],
      "metadata": {
        "id": "QWEwF18T-5id"
      },
      "execution_count": 6,
      "outputs": []
    },
    {
      "cell_type": "code",
      "source": [
        "predictionf = clf.predict([[181, 80, 91]])\n",
        "predictionm = clf.predict([[183, 100, 92]])"
      ],
      "metadata": {
        "id": "Vp99iZBv_AQg"
      },
      "execution_count": 7,
      "outputs": []
    },
    {
      "cell_type": "code",
      "source": [
        "print(predictionf)\n",
        "print(predictionm)"
      ],
      "metadata": {
        "colab": {
          "base_uri": "https://localhost:8080/"
        },
        "id": "hMAMmLge_Czx",
        "outputId": "c99aa6d1-70eb-416b-9f47-14c7637cbdc6"
      },
      "execution_count": 8,
      "outputs": [
        {
          "output_type": "stream",
          "name": "stdout",
          "text": [
            "['male']\n",
            "['female']\n"
          ]
        }
      ]
    }
  ]
}
